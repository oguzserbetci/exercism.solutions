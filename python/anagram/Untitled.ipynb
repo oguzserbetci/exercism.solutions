{
 "cells": [
  {
   "cell_type": "code",
   "execution_count": 2,
   "metadata": {
    "collapsed": true
   },
   "outputs": [],
   "source": [
    "import string\n",
    "\n",
    "def detect_anagrams(phrase, anagrams):\n",
    "  r = []\n",
    "  for a in anagrams:\n",
    "    if len(phrase) != len(a):\n",
    "      continue\n",
    "    for p in phrase:\n",
    "      if p in a:\n",
    "        a.replace(p,'',1)\n",
    "    if len(a) == 0:\n",
    "      r.append(a)\n",
    "  return r\n"
   ]
  },
  {
   "cell_type": "code",
   "execution_count": 22,
   "metadata": {
    "collapsed": false
   },
   "outputs": [
    {
     "name": "stdout",
     "output_type": "stream",
     "text": [
      "ant stand\n",
      "ant at\n"
     ]
    }
   ],
   "source": [
    "phrase = 'ant'\n",
    "anagrams = 'tan stand at'.split()\n",
    "\n",
    "r = []\n",
    "for a in anagrams:\n",
    "    if len(phrase) != len(a):\n",
    "        print(phrase, a)\n",
    "        continue\n",
    "    temp = a\n",
    "    for p in phrase:\n",
    "        if p in temp:\n",
    "            temp = temp.replace(p,'',1)\n",
    "    if len(temp) == 0:\n",
    "        r.append(a)\n"
   ]
  },
  {
   "cell_type": "code",
   "execution_count": 30,
   "metadata": {
    "collapsed": false
   },
   "outputs": [
    {
     "data": {
      "text/plain": [
       "['stand']"
      ]
     },
     "execution_count": 30,
     "metadata": {},
     "output_type": "execute_result"
    }
   ],
   "source": [
    "r = [a for a in anagrams if sorted(a.lower()) == sorted(phrase.lower()) and a.lower() != phrase.lower()]\n",
    "anagrams[1].lower().split()"
   ]
  },
  {
   "cell_type": "code",
   "execution_count": null,
   "metadata": {
    "collapsed": true
   },
   "outputs": [],
   "source": []
  },
  {
   "cell_type": "code",
   "execution_count": null,
   "metadata": {
    "collapsed": true
   },
   "outputs": [],
   "source": []
  }
 ],
 "metadata": {
  "kernelspec": {
   "display_name": "Python 3",
   "language": "python",
   "name": "python3"
  },
  "language_info": {
   "codemirror_mode": {
    "name": "ipython",
    "version": 3
   },
   "file_extension": ".py",
   "mimetype": "text/x-python",
   "name": "python",
   "nbconvert_exporter": "python",
   "pygments_lexer": "ipython3",
   "version": "3.5.1"
  }
 },
 "nbformat": 4,
 "nbformat_minor": 0
}
